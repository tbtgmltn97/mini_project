{
 "cells": [
  {
   "cell_type": "code",
   "execution_count": 3,
   "id": "410b7c19-731a-44e0-bf24-854ec87f72bd",
   "metadata": {
    "tags": []
   },
   "outputs": [
    {
     "ename": "FileNotFoundError",
     "evalue": "[Errno 2] No such file or directory: 'images'",
     "output_type": "error",
     "traceback": [
      "\u001b[0;31m---------------------------------------------------------------------------\u001b[0m",
      "\u001b[0;31mFileNotFoundError\u001b[0m                         Traceback (most recent call last)",
      "Cell \u001b[0;32mIn[3], line 7\u001b[0m\n\u001b[1;32m      4\u001b[0m \u001b[38;5;28;01mimport\u001b[39;00m \u001b[38;5;21;01mmatplotlib\u001b[39;00m\u001b[38;5;21;01m.\u001b[39;00m\u001b[38;5;21;01mpyplot\u001b[39;00m \u001b[38;5;28;01mas\u001b[39;00m \u001b[38;5;21;01mpp\u001b[39;00m\n\u001b[1;32m      5\u001b[0m \u001b[38;5;28;01mimport\u001b[39;00m \u001b[38;5;21;01mnumpy\u001b[39;00m \u001b[38;5;28;01mas\u001b[39;00m \u001b[38;5;21;01mnp\u001b[39;00m\n\u001b[0;32m----> 7\u001b[0m images \u001b[38;5;241m=\u001b[39m \u001b[43mos\u001b[49m\u001b[38;5;241;43m.\u001b[39;49m\u001b[43mlistdir\u001b[49m\u001b[43m(\u001b[49m\u001b[38;5;124;43m'\u001b[39;49m\u001b[38;5;124;43mimages\u001b[39;49m\u001b[38;5;124;43m'\u001b[39;49m\u001b[43m)\u001b[49m\n\u001b[1;32m      8\u001b[0m image_to_be_matched \u001b[38;5;241m=\u001b[39m face_recognition\u001b[38;5;241m.\u001b[39mload_image_file(\u001b[38;5;124m'\u001b[39m\u001b[38;5;124m123.jpg\u001b[39m\u001b[38;5;124m'\u001b[39m)\n\u001b[1;32m      9\u001b[0m image_to_be_matched_encoded \u001b[38;5;241m=\u001b[39m face_recognition\u001b[38;5;241m.\u001b[39mface_encodings(image_to_be_matched)[\u001b[38;5;241m0\u001b[39m]\n",
      "\u001b[0;31mFileNotFoundError\u001b[0m: [Errno 2] No such file or directory: 'images'"
     ]
    }
   ],
   "source": [
    "import face_recognition\n",
    "import os\n",
    "import matplotlib.image as img\n",
    "import matplotlib.pyplot as pp\n",
    "import numpy as np\n",
    "\n",
    "images = os.listdir('images')\n",
    "image_to_be_matched = face_recognition.load_image_file('123.jpg')\n",
    "image_to_be_matched_encoded = face_recognition.face_encodings(image_to_be_matched)[0]\n",
    "best_match_distance = 1\n",
    "best_match_image = None\n",
    "\n",
    "for image in images:\n",
    "    current_image = face_recognition.load_image_file(os.path.join(\"images\", image))\n",
    "    current_image_encoded = face_recognition.face_encodings(current_image)\n",
    "    \n",
    "    # numpy 배열로 변환\n",
    "    current_image_encoded = np.array(current_image_encoded)\n",
    "\n",
    "    result = face_recognition.compare_faces(np.array([image_to_be_matched_encoded]), current_image_encoded)\n",
    "    if result[0] == True :\n",
    "        print(\"당신이 닮은 연예인은 : \" + image + \"입니다.\")\n",
    "        fileName = \"images/\" + image\n",
    "        ndarray = img.imread(fileName)\n",
    "        pp.imshow(ndarray)\n",
    "        pp.show()\n",
    "        break\n"
   ]
  }
 ],
 "metadata": {
  "kernelspec": {
   "display_name": "Python 3 (ipykernel)",
   "language": "python",
   "name": "python3"
  },
  "language_info": {
   "codemirror_mode": {
    "name": "ipython",
    "version": 3
   },
   "file_extension": ".py",
   "mimetype": "text/x-python",
   "name": "python",
   "nbconvert_exporter": "python",
   "pygments_lexer": "ipython3",
   "version": "3.11.3"
  }
 },
 "nbformat": 4,
 "nbformat_minor": 5
}
