{
 "cells": [
  {
   "cell_type": "code",
   "execution_count": null,
   "metadata": {},
   "outputs": [],
   "source": [
    "import face_recognition\n",
    "import os\n",
    "import matplotlib.image as img\n",
    "import matplotlib.pyplot as pp\n",
    "import numpy as np\n",
    "\n",
    "images = os.listdir('images')\n",
    "image_to_be_matched = face_recognition.load_image_file('123.jpg')\n",
    "image_to_be_matched_encoded = face_recognition.face_encodings(image_to_be_matched)[0]\n",
    "best_match_distance = 1\n",
    "best_match_image = None\n",
    "\n",
    "for image in images:\n",
    "    current_image = face_recognition.load_image_file(os.path.join(\"images\", image))\n",
    "    current_image_encoded = face_recognition.face_encodings(current_image)\n",
    "    \n",
    "    # numpy 배열로 변환\n",
    "    current_image_encoded = np.array(current_image_encoded)\n",
    "\n",
    "    result = face_recognition.compare_faces(np.array([image_to_be_matched_encoded]), current_image_encoded)\n",
    "    if result[0] == True :\n",
    "        print(\"당신이 닮은 연예인은 : \" + image + \"입니다.\")\n",
    "        fileName = \"images/\" + image\n",
    "        ndarray = img.imread(fileName)\n",
    "        pp.imshow(ndarray)\n",
    "        pp.show()\n",
    "        break\n"
   ]
  }
 ],
 "metadata": {
  "kernelspec": {
   "display_name": "Python 3.11.3 64-bit",
   "language": "python",
   "name": "python3"
  },
  "language_info": {
   "name": "python",
   "version": "3.11.3"
  },
  "orig_nbformat": 4,
  "vscode": {
   "interpreter": {
    "hash": "b0fa6594d8f4cbf19f97940f81e996739fb7646882a419484c72d19e05852a7e"
   }
  }
 },
 "nbformat": 4,
 "nbformat_minor": 2
}
