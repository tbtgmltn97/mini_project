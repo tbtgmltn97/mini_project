{
 "cells": [
  {
   "cell_type": "code",
   "execution_count": 11,
   "id": "410b7c19-731a-44e0-bf24-854ec87f72bd",
   "metadata": {
    "tags": []
   },
   "outputs": [],
   "source": [
    "import os\n",
    "import face_recognition\n",
    "from django.shortcuts import render\n",
    "from matplotlib import pyplot as plt\n",
    "import matplotlib.image as img\n",
    "\n",
    "def face_recognition(request):\n",
    "    # load the image to be matched\n",
    "    image_to_be_matched = face_recognition.load_image_file('123.jpg')\n",
    "    image_to_be_matched_encoded = face_recognition.face_encodings(image_to_be_matched)[0]\n",
    "    # load all the images in the directory\n",
    "    images = os.listdir('images')\n",
    "    # Calculate the face distance for each image and store it in a dictionary\n",
    "    distances = {}\n",
    "    for image in images:\n",
    "        current_image = face_recognition.load_image_file(\"images/\" + image)\n",
    "        current_image_encoded = face_recognition.face_encodings(current_image)[0]\n",
    "        distance = face_recognition.face_distance([image_to_be_matched_encoded], current_image_encoded)\n",
    "        distances[image] = distance\n",
    "    # Sort the dictionary by distance and get the closest image\n",
    "    closest_image = min(distances, key=distances.get)\n",
    "    # Print the closest image and display it\n",
    "    print(\"Matched: \" + closest_image)\n",
    "    fileName = \"images/\" + closest_image\n",
    "    ndarray = img.imread(fileName)\n",
    "    response_data = {'image': ndarray}\n",
    "    return render(request, 'face_recognition.html', response_data)\n"
   ]
  },
  {
   "cell_type": "code",
   "execution_count": 4,
   "id": "7cda4f26-84b8-46c8-a03a-64dd9b851fa2",
   "metadata": {
    "tags": []
   },
   "outputs": [
    {
     "data": {
      "text/plain": [
       "'/Users/jangjinsu/encore/mini_project/face/mysite'"
      ]
     },
     "execution_count": 4,
     "metadata": {},
     "output_type": "execute_result"
    }
   ],
   "source": [
    "pwd"
   ]
  }
 ],
 "metadata": {
  "kernelspec": {
   "display_name": "Python 3 (ipykernel)",
   "language": "python",
   "name": "python3"
  },
  "language_info": {
   "codemirror_mode": {
    "name": "ipython",
    "version": 3
   },
   "file_extension": ".py",
   "mimetype": "text/x-python",
   "name": "python",
   "nbconvert_exporter": "python",
   "pygments_lexer": "ipython3",
   "version": "3.11.3"
  }
 },
 "nbformat": 4,
 "nbformat_minor": 5
}
